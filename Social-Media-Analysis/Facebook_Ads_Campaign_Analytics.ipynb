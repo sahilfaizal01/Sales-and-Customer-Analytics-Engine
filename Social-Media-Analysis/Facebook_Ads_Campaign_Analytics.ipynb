{
  "cells": [
    {
      "cell_type": "markdown",
      "id": "c9cc0499",
      "metadata": {
        "id": "c9cc0499"
      },
      "source": [
        "## Facebook Metrics Refresher"
      ]
    },
    {
      "cell_type": "markdown",
      "id": "c9450957",
      "metadata": {
        "id": "c9450957"
      },
      "source": [
        "### 1. Reach:\n",
        "\n",
        "The number of unique people who saw your ad.\n",
        "\n",
        "### 2. Impressions:\n",
        "\n",
        "The total number of times an ad was displayed on your audience's screen.\n",
        "\n",
        "### 3. Clicks (All):\n",
        "\n",
        "The total number of clicks your ad received, including clicks on the like and share buttons.\n",
        "\n",
        "### 4. Link Clicks:\n",
        "\n",
        "The number of clicks on an ad link that leads to a specified destination.\n",
        "\n",
        "### 5. CTR:\n",
        "\n",
        "$\\displaystyle \\frac{\\text{Total Clicks}}{\\text{Total Impressions}} \\times 100$\n",
        "\n",
        "### 6. Conversions:\n",
        "\n",
        "The number of times users completed the desired action.\n",
        "### 7. Conversion Rate:\n",
        "\n",
        "$\\displaystyle \\frac{\\text{Number of Conversions}}{\\text{Total Results}}$\n",
        "\n",
        "### 8. CPM (Cost per Thousand Impressions):\n",
        "\n",
        "$\\displaystyle \\frac{\\text{Total Amount Spent}}{\\text{Total Impressions}} \\times 1000$\n",
        "\n",
        "### 9. CPC (Cost per Link Click)\n",
        "\n",
        "$\\displaystyle \\frac{\\text{Total Amount Spent}}{\\text{Total Link Clicks}}$\n",
        "\n",
        "### 10. CPR (Cost per Result):\n",
        "$\\displaystyle \\frac{\\text{Total Amount Spent}}{\\text{Total Results}}$"
      ]
    },
    {
      "cell_type": "markdown",
      "id": "b47deedb",
      "metadata": {
        "id": "b47deedb"
      },
      "source": [
        "## Step 1: Examine the Dataset"
      ]
    },
    {
      "cell_type": "code",
      "execution_count": null,
      "id": "91ab2f1b",
      "metadata": {
        "id": "91ab2f1b",
        "outputId": "218bc555-bf59-492e-b2d9-61606e0c8d28"
      },
      "outputs": [
        {
          "data": {
            "text/html": [
              "<div>\n",
              "<style scoped>\n",
              "    .dataframe tbody tr th:only-of-type {\n",
              "        vertical-align: middle;\n",
              "    }\n",
              "\n",
              "    .dataframe tbody tr th {\n",
              "        vertical-align: top;\n",
              "    }\n",
              "\n",
              "    .dataframe thead th {\n",
              "        text-align: right;\n",
              "    }\n",
              "</style>\n",
              "<table border=\"1\" class=\"dataframe\">\n",
              "  <thead>\n",
              "    <tr style=\"text-align: right;\">\n",
              "      <th></th>\n",
              "      <th>Reporting Starts</th>\n",
              "      <th>Reporting Ends</th>\n",
              "      <th>Ad Set Name</th>\n",
              "      <th>Amount Spent</th>\n",
              "      <th>Results</th>\n",
              "      <th>Result indicator</th>\n",
              "      <th>CPR</th>\n",
              "      <th>Reach</th>\n",
              "      <th>Impressions</th>\n",
              "      <th>Frequency</th>\n",
              "      <th>CPM</th>\n",
              "      <th>CPC</th>\n",
              "      <th>CTR (all)</th>\n",
              "      <th>Link Clicks</th>\n",
              "      <th>Landing Page Views</th>\n",
              "    </tr>\n",
              "  </thead>\n",
              "  <tbody>\n",
              "    <tr>\n",
              "      <th>0</th>\n",
              "      <td>20/5/2022</td>\n",
              "      <td>31/5/2022</td>\n",
              "      <td>T1 - Cold - LLA - Promo May</td>\n",
              "      <td>332.65</td>\n",
              "      <td>2</td>\n",
              "      <td>actions:offsite_conversion.fb_pixel_purchase</td>\n",
              "      <td>166.3250</td>\n",
              "      <td>6032</td>\n",
              "      <td>12594</td>\n",
              "      <td>2.087865</td>\n",
              "      <td>26.413371</td>\n",
              "      <td>2.294138</td>\n",
              "      <td>2.207400</td>\n",
              "      <td>145</td>\n",
              "      <td>89</td>\n",
              "    </tr>\n",
              "    <tr>\n",
              "      <th>1</th>\n",
              "      <td>20/5/2022</td>\n",
              "      <td>31/5/2022</td>\n",
              "      <td>T1 - Cold - DT - Promo May</td>\n",
              "      <td>915.00</td>\n",
              "      <td>15</td>\n",
              "      <td>actions:offsite_conversion.fb_pixel_purchase</td>\n",
              "      <td>61.0000</td>\n",
              "      <td>18900</td>\n",
              "      <td>42510</td>\n",
              "      <td>2.249206</td>\n",
              "      <td>21.524347</td>\n",
              "      <td>2.636888</td>\n",
              "      <td>1.587862</td>\n",
              "      <td>347</td>\n",
              "      <td>215</td>\n",
              "    </tr>\n",
              "    <tr>\n",
              "      <th>2</th>\n",
              "      <td>20/5/2022</td>\n",
              "      <td>31/5/2022</td>\n",
              "      <td>T2 - Cold - LLA - Promo May</td>\n",
              "      <td>327.77</td>\n",
              "      <td>4</td>\n",
              "      <td>actions:offsite_conversion.fb_pixel_purchase</td>\n",
              "      <td>81.9425</td>\n",
              "      <td>34743</td>\n",
              "      <td>61268</td>\n",
              "      <td>1.763463</td>\n",
              "      <td>5.349775</td>\n",
              "      <td>0.947312</td>\n",
              "      <td>1.237187</td>\n",
              "      <td>346</td>\n",
              "      <td>220</td>\n",
              "    </tr>\n",
              "    <tr>\n",
              "      <th>3</th>\n",
              "      <td>20/5/2022</td>\n",
              "      <td>31/5/2022</td>\n",
              "      <td>T2 - Cold - DT - Promo May</td>\n",
              "      <td>297.38</td>\n",
              "      <td>0</td>\n",
              "      <td>NaN</td>\n",
              "      <td>NaN</td>\n",
              "      <td>45001</td>\n",
              "      <td>65880</td>\n",
              "      <td>1.463967</td>\n",
              "      <td>4.513965</td>\n",
              "      <td>0.788806</td>\n",
              "      <td>1.220401</td>\n",
              "      <td>377</td>\n",
              "      <td>225</td>\n",
              "    </tr>\n",
              "    <tr>\n",
              "      <th>4</th>\n",
              "      <td>20/5/2022</td>\n",
              "      <td>31/5/2022</td>\n",
              "      <td>T3 - Cold - LLA - Promo May</td>\n",
              "      <td>291.45</td>\n",
              "      <td>4</td>\n",
              "      <td>actions:offsite_conversion.fb_pixel_purchase</td>\n",
              "      <td>72.8625</td>\n",
              "      <td>69040</td>\n",
              "      <td>147600</td>\n",
              "      <td>2.137891</td>\n",
              "      <td>1.974594</td>\n",
              "      <td>0.464092</td>\n",
              "      <td>1.115854</td>\n",
              "      <td>628</td>\n",
              "      <td>372</td>\n",
              "    </tr>\n",
              "  </tbody>\n",
              "</table>\n",
              "</div>"
            ],
            "text/plain": [
              "  Reporting Starts Reporting Ends                  Ad Set Name  Amount Spent  \\\n",
              "0        20/5/2022      31/5/2022  T1 - Cold - LLA - Promo May        332.65   \n",
              "1        20/5/2022      31/5/2022   T1 - Cold - DT - Promo May        915.00   \n",
              "2        20/5/2022      31/5/2022  T2 - Cold - LLA - Promo May        327.77   \n",
              "3        20/5/2022      31/5/2022   T2 - Cold - DT - Promo May        297.38   \n",
              "4        20/5/2022      31/5/2022  T3 - Cold - LLA - Promo May        291.45   \n",
              "\n",
              "   Results                              Result indicator       CPR  Reach  \\\n",
              "0        2  actions:offsite_conversion.fb_pixel_purchase  166.3250   6032   \n",
              "1       15  actions:offsite_conversion.fb_pixel_purchase   61.0000  18900   \n",
              "2        4  actions:offsite_conversion.fb_pixel_purchase   81.9425  34743   \n",
              "3        0                                           NaN       NaN  45001   \n",
              "4        4  actions:offsite_conversion.fb_pixel_purchase   72.8625  69040   \n",
              "\n",
              "   Impressions  Frequency        CPM       CPC  CTR (all)  Link Clicks  \\\n",
              "0        12594   2.087865  26.413371  2.294138   2.207400          145   \n",
              "1        42510   2.249206  21.524347  2.636888   1.587862          347   \n",
              "2        61268   1.763463   5.349775  0.947312   1.237187          346   \n",
              "3        65880   1.463967   4.513965  0.788806   1.220401          377   \n",
              "4       147600   2.137891   1.974594  0.464092   1.115854          628   \n",
              "\n",
              "   Landing Page Views  \n",
              "0                  89  \n",
              "1                 215  \n",
              "2                 220  \n",
              "3                 225  \n",
              "4                 372  "
            ]
          },
          "execution_count": 2,
          "metadata": {},
          "output_type": "execute_result"
        }
      ],
      "source": [
        "import pandas as pd\n",
        "df = pd.read_csv('Adsets.csv')\n",
        "df.head()"
      ]
    },
    {
      "cell_type": "code",
      "execution_count": null,
      "id": "fa95bb19",
      "metadata": {
        "id": "fa95bb19",
        "outputId": "659e05fa-0d0a-4d77-fa64-fd7dd4808e8a"
      },
      "outputs": [
        {
          "name": "stdout",
          "output_type": "stream",
          "text": [
            "<class 'pandas.core.frame.DataFrame'>\n",
            "RangeIndex: 13 entries, 0 to 12\n",
            "Data columns (total 15 columns):\n",
            " #   Column              Non-Null Count  Dtype  \n",
            "---  ------              --------------  -----  \n",
            " 0   Reporting Starts    13 non-null     object \n",
            " 1   Reporting Ends      13 non-null     object \n",
            " 2   Ad Set Name         13 non-null     object \n",
            " 3   Amount Spent        13 non-null     float64\n",
            " 4   Results             13 non-null     int64  \n",
            " 5   Result indicator    11 non-null     object \n",
            " 6   CPR                 11 non-null     float64\n",
            " 7   Reach               13 non-null     int64  \n",
            " 8   Impressions         13 non-null     int64  \n",
            " 9   Frequency           13 non-null     float64\n",
            " 10  CPM                 13 non-null     float64\n",
            " 11  CPC                 13 non-null     float64\n",
            " 12  CTR (all)           13 non-null     float64\n",
            " 13  Link Clicks         13 non-null     int64  \n",
            " 14  Landing Page Views  13 non-null     int64  \n",
            "dtypes: float64(6), int64(5), object(4)\n",
            "memory usage: 1.6+ KB\n"
          ]
        }
      ],
      "source": [
        "df.info()"
      ]
    },
    {
      "cell_type": "markdown",
      "id": "ed597d30",
      "metadata": {
        "id": "ed597d30"
      },
      "source": [
        "### Step 2: Campaign Highlights"
      ]
    },
    {
      "cell_type": "code",
      "execution_count": null,
      "id": "71140ff9",
      "metadata": {
        "id": "71140ff9",
        "outputId": "1733fe77-96c0-4261-dea1-b53eb06026eb"
      },
      "outputs": [
        {
          "data": {
            "text/plain": [
              "Reach                  453534.00\n",
              "Impressions           1136052.00\n",
              "Link Clicks              5589.00\n",
              "Landing Page Views       2985.00\n",
              "Results                    83.00\n",
              "Amount Spent             4362.12\n",
              "dtype: float64"
            ]
          },
          "execution_count": 4,
          "metadata": {},
          "output_type": "execute_result"
        }
      ],
      "source": [
        "df[[\"Reach\",\"Impressions\",\"Link Clicks\",\"Landing Page Views\",\"Results\",\"Amount Spent\"]].sum()"
      ]
    },
    {
      "cell_type": "markdown",
      "id": "838af5e0",
      "metadata": {
        "id": "838af5e0"
      },
      "source": [
        "## Campaign Highlights\n",
        "\n",
        "1. We reached around 450K unique people.\n",
        "2. Approx 1.1 million impressions.\n",
        "3. Each person saw the ad around 2.5 times.\n",
        "4. Approx 5.6K link clicks and 2.9K landing page views.\n",
        "5. Total of 83 results.\n",
        "6. Spent 4,362 EUR."
      ]
    },
    {
      "cell_type": "markdown",
      "id": "11ebc23d",
      "metadata": {
        "id": "11ebc23d"
      },
      "source": [
        "### CPM (Cost per 1000 Impressions)"
      ]
    },
    {
      "cell_type": "markdown",
      "id": "52680fbf",
      "metadata": {
        "id": "52680fbf"
      },
      "source": [
        "$\\displaystyle \\frac{\\text{Total Amount Spent}}{\\text{Impressions}} \\times 1000$"
      ]
    },
    {
      "cell_type": "code",
      "execution_count": null,
      "id": "c8d6c6f2",
      "metadata": {
        "id": "c8d6c6f2",
        "outputId": "012557b1-04b0-4738-9f06-4c0fe471f28b"
      },
      "outputs": [
        {
          "data": {
            "text/plain": [
              "6.552931634584926"
            ]
          },
          "execution_count": 6,
          "metadata": {},
          "output_type": "execute_result"
        }
      ],
      "source": [
        "((df['Amount Spent']/df['Impressions'])*1000).mean()"
      ]
    },
    {
      "cell_type": "code",
      "execution_count": null,
      "id": "7e252e62",
      "metadata": {
        "id": "7e252e62",
        "outputId": "513dddd9-1bec-4253-b620-83221dc5378e"
      },
      "outputs": [
        {
          "data": {
            "text/html": [
              "<div>\n",
              "<style scoped>\n",
              "    .dataframe tbody tr th:only-of-type {\n",
              "        vertical-align: middle;\n",
              "    }\n",
              "\n",
              "    .dataframe tbody tr th {\n",
              "        vertical-align: top;\n",
              "    }\n",
              "\n",
              "    .dataframe thead th {\n",
              "        text-align: right;\n",
              "    }\n",
              "</style>\n",
              "<table border=\"1\" class=\"dataframe\">\n",
              "  <thead>\n",
              "    <tr style=\"text-align: right;\">\n",
              "      <th></th>\n",
              "      <th>Reporting Starts</th>\n",
              "      <th>Reporting Ends</th>\n",
              "      <th>Ad Set Name</th>\n",
              "      <th>Amount Spent</th>\n",
              "      <th>Results</th>\n",
              "      <th>Result indicator</th>\n",
              "      <th>CPR</th>\n",
              "      <th>Reach</th>\n",
              "      <th>Impressions</th>\n",
              "      <th>Frequency</th>\n",
              "      <th>CPM</th>\n",
              "      <th>CPC</th>\n",
              "      <th>CTR (all)</th>\n",
              "      <th>Link Clicks</th>\n",
              "      <th>Landing Page Views</th>\n",
              "    </tr>\n",
              "  </thead>\n",
              "  <tbody>\n",
              "    <tr>\n",
              "      <th>0</th>\n",
              "      <td>20/5/2022</td>\n",
              "      <td>31/5/2022</td>\n",
              "      <td>T1 - Cold - LLA - Promo May</td>\n",
              "      <td>332.65</td>\n",
              "      <td>2</td>\n",
              "      <td>actions:offsite_conversion.fb_pixel_purchase</td>\n",
              "      <td>166.3250</td>\n",
              "      <td>6032</td>\n",
              "      <td>12594</td>\n",
              "      <td>2.087865</td>\n",
              "      <td>26.413371</td>\n",
              "      <td>2.294138</td>\n",
              "      <td>2.207400</td>\n",
              "      <td>145</td>\n",
              "      <td>89</td>\n",
              "    </tr>\n",
              "    <tr>\n",
              "      <th>1</th>\n",
              "      <td>20/5/2022</td>\n",
              "      <td>31/5/2022</td>\n",
              "      <td>T1 - Cold - DT - Promo May</td>\n",
              "      <td>915.00</td>\n",
              "      <td>15</td>\n",
              "      <td>actions:offsite_conversion.fb_pixel_purchase</td>\n",
              "      <td>61.0000</td>\n",
              "      <td>18900</td>\n",
              "      <td>42510</td>\n",
              "      <td>2.249206</td>\n",
              "      <td>21.524347</td>\n",
              "      <td>2.636888</td>\n",
              "      <td>1.587862</td>\n",
              "      <td>347</td>\n",
              "      <td>215</td>\n",
              "    </tr>\n",
              "    <tr>\n",
              "      <th>2</th>\n",
              "      <td>20/5/2022</td>\n",
              "      <td>31/5/2022</td>\n",
              "      <td>T2 - Cold - LLA - Promo May</td>\n",
              "      <td>327.77</td>\n",
              "      <td>4</td>\n",
              "      <td>actions:offsite_conversion.fb_pixel_purchase</td>\n",
              "      <td>81.9425</td>\n",
              "      <td>34743</td>\n",
              "      <td>61268</td>\n",
              "      <td>1.763463</td>\n",
              "      <td>5.349775</td>\n",
              "      <td>0.947312</td>\n",
              "      <td>1.237187</td>\n",
              "      <td>346</td>\n",
              "      <td>220</td>\n",
              "    </tr>\n",
              "    <tr>\n",
              "      <th>3</th>\n",
              "      <td>20/5/2022</td>\n",
              "      <td>31/5/2022</td>\n",
              "      <td>T2 - Cold - DT - Promo May</td>\n",
              "      <td>297.38</td>\n",
              "      <td>0</td>\n",
              "      <td>NaN</td>\n",
              "      <td>NaN</td>\n",
              "      <td>45001</td>\n",
              "      <td>65880</td>\n",
              "      <td>1.463967</td>\n",
              "      <td>4.513965</td>\n",
              "      <td>0.788806</td>\n",
              "      <td>1.220401</td>\n",
              "      <td>377</td>\n",
              "      <td>225</td>\n",
              "    </tr>\n",
              "    <tr>\n",
              "      <th>4</th>\n",
              "      <td>20/5/2022</td>\n",
              "      <td>31/5/2022</td>\n",
              "      <td>T3 - Cold - LLA - Promo May</td>\n",
              "      <td>291.45</td>\n",
              "      <td>4</td>\n",
              "      <td>actions:offsite_conversion.fb_pixel_purchase</td>\n",
              "      <td>72.8625</td>\n",
              "      <td>69040</td>\n",
              "      <td>147600</td>\n",
              "      <td>2.137891</td>\n",
              "      <td>1.974594</td>\n",
              "      <td>0.464092</td>\n",
              "      <td>1.115854</td>\n",
              "      <td>628</td>\n",
              "      <td>372</td>\n",
              "    </tr>\n",
              "  </tbody>\n",
              "</table>\n",
              "</div>"
            ],
            "text/plain": [
              "  Reporting Starts Reporting Ends                  Ad Set Name  Amount Spent  \\\n",
              "0        20/5/2022      31/5/2022  T1 - Cold - LLA - Promo May        332.65   \n",
              "1        20/5/2022      31/5/2022   T1 - Cold - DT - Promo May        915.00   \n",
              "2        20/5/2022      31/5/2022  T2 - Cold - LLA - Promo May        327.77   \n",
              "3        20/5/2022      31/5/2022   T2 - Cold - DT - Promo May        297.38   \n",
              "4        20/5/2022      31/5/2022  T3 - Cold - LLA - Promo May        291.45   \n",
              "\n",
              "   Results                              Result indicator       CPR  Reach  \\\n",
              "0        2  actions:offsite_conversion.fb_pixel_purchase  166.3250   6032   \n",
              "1       15  actions:offsite_conversion.fb_pixel_purchase   61.0000  18900   \n",
              "2        4  actions:offsite_conversion.fb_pixel_purchase   81.9425  34743   \n",
              "3        0                                           NaN       NaN  45001   \n",
              "4        4  actions:offsite_conversion.fb_pixel_purchase   72.8625  69040   \n",
              "\n",
              "   Impressions  Frequency        CPM       CPC  CTR (all)  Link Clicks  \\\n",
              "0        12594   2.087865  26.413371  2.294138   2.207400          145   \n",
              "1        42510   2.249206  21.524347  2.636888   1.587862          347   \n",
              "2        61268   1.763463   5.349775  0.947312   1.237187          346   \n",
              "3        65880   1.463967   4.513965  0.788806   1.220401          377   \n",
              "4       147600   2.137891   1.974594  0.464092   1.115854          628   \n",
              "\n",
              "   Landing Page Views  \n",
              "0                  89  \n",
              "1                 215  \n",
              "2                 220  \n",
              "3                 225  \n",
              "4                 372  "
            ]
          },
          "execution_count": 7,
          "metadata": {},
          "output_type": "execute_result"
        }
      ],
      "source": [
        "df.head()"
      ]
    },
    {
      "cell_type": "code",
      "execution_count": null,
      "id": "91b9618c",
      "metadata": {
        "id": "91b9618c",
        "outputId": "a8b5278e-0c35-47df-ffbd-749dcfdeb6da"
      },
      "outputs": [
        {
          "data": {
            "text/plain": [
              "6.552931538461538"
            ]
          },
          "execution_count": 8,
          "metadata": {},
          "output_type": "execute_result"
        }
      ],
      "source": [
        "df['CPM'].mean()"
      ]
    },
    {
      "cell_type": "markdown",
      "id": "982b1d41",
      "metadata": {
        "id": "982b1d41"
      },
      "source": [
        "### Click-Through-Rate"
      ]
    },
    {
      "cell_type": "markdown",
      "id": "e226580d",
      "metadata": {
        "id": "e226580d"
      },
      "source": [
        "$\\displaystyle \\frac{\\text{Total Link Clicks}}{\\text{Total Impressions}} \\times 100$"
      ]
    },
    {
      "cell_type": "code",
      "execution_count": null,
      "id": "fcf5747d",
      "metadata": {
        "id": "fcf5747d",
        "outputId": "b64a3dfe-7b9d-4bce-8d8e-737e1528745e"
      },
      "outputs": [
        {
          "data": {
            "text/html": [
              "<div>\n",
              "<style scoped>\n",
              "    .dataframe tbody tr th:only-of-type {\n",
              "        vertical-align: middle;\n",
              "    }\n",
              "\n",
              "    .dataframe tbody tr th {\n",
              "        vertical-align: top;\n",
              "    }\n",
              "\n",
              "    .dataframe thead th {\n",
              "        text-align: right;\n",
              "    }\n",
              "</style>\n",
              "<table border=\"1\" class=\"dataframe\">\n",
              "  <thead>\n",
              "    <tr style=\"text-align: right;\">\n",
              "      <th></th>\n",
              "      <th>Reporting Starts</th>\n",
              "      <th>Reporting Ends</th>\n",
              "      <th>Ad Set Name</th>\n",
              "      <th>Amount Spent</th>\n",
              "      <th>Results</th>\n",
              "      <th>Result indicator</th>\n",
              "      <th>CPR</th>\n",
              "      <th>Reach</th>\n",
              "      <th>Impressions</th>\n",
              "      <th>Frequency</th>\n",
              "      <th>CPM</th>\n",
              "      <th>CPC</th>\n",
              "      <th>CTR (all)</th>\n",
              "      <th>Link Clicks</th>\n",
              "      <th>Landing Page Views</th>\n",
              "    </tr>\n",
              "  </thead>\n",
              "  <tbody>\n",
              "    <tr>\n",
              "      <th>0</th>\n",
              "      <td>20/5/2022</td>\n",
              "      <td>31/5/2022</td>\n",
              "      <td>T1 - Cold - LLA - Promo May</td>\n",
              "      <td>332.65</td>\n",
              "      <td>2</td>\n",
              "      <td>actions:offsite_conversion.fb_pixel_purchase</td>\n",
              "      <td>166.325</td>\n",
              "      <td>6032</td>\n",
              "      <td>12594</td>\n",
              "      <td>2.087865</td>\n",
              "      <td>26.413371</td>\n",
              "      <td>2.294138</td>\n",
              "      <td>2.207400</td>\n",
              "      <td>145</td>\n",
              "      <td>89</td>\n",
              "    </tr>\n",
              "    <tr>\n",
              "      <th>1</th>\n",
              "      <td>20/5/2022</td>\n",
              "      <td>31/5/2022</td>\n",
              "      <td>T1 - Cold - DT - Promo May</td>\n",
              "      <td>915.00</td>\n",
              "      <td>15</td>\n",
              "      <td>actions:offsite_conversion.fb_pixel_purchase</td>\n",
              "      <td>61.000</td>\n",
              "      <td>18900</td>\n",
              "      <td>42510</td>\n",
              "      <td>2.249206</td>\n",
              "      <td>21.524347</td>\n",
              "      <td>2.636888</td>\n",
              "      <td>1.587862</td>\n",
              "      <td>347</td>\n",
              "      <td>215</td>\n",
              "    </tr>\n",
              "  </tbody>\n",
              "</table>\n",
              "</div>"
            ],
            "text/plain": [
              "  Reporting Starts Reporting Ends                  Ad Set Name  Amount Spent  \\\n",
              "0        20/5/2022      31/5/2022  T1 - Cold - LLA - Promo May        332.65   \n",
              "1        20/5/2022      31/5/2022   T1 - Cold - DT - Promo May        915.00   \n",
              "\n",
              "   Results                              Result indicator      CPR  Reach  \\\n",
              "0        2  actions:offsite_conversion.fb_pixel_purchase  166.325   6032   \n",
              "1       15  actions:offsite_conversion.fb_pixel_purchase   61.000  18900   \n",
              "\n",
              "   Impressions  Frequency        CPM       CPC  CTR (all)  Link Clicks  \\\n",
              "0        12594   2.087865  26.413371  2.294138   2.207400          145   \n",
              "1        42510   2.249206  21.524347  2.636888   1.587862          347   \n",
              "\n",
              "   Landing Page Views  \n",
              "0                  89  \n",
              "1                 215  "
            ]
          },
          "execution_count": 9,
          "metadata": {},
          "output_type": "execute_result"
        }
      ],
      "source": [
        "df.head(2)"
      ]
    },
    {
      "cell_type": "code",
      "execution_count": null,
      "id": "0a4e014d",
      "metadata": {
        "id": "0a4e014d",
        "outputId": "2faa0a01-d8e8-4074-bf3c-0e99ce8fd836"
      },
      "outputs": [
        {
          "data": {
            "text/plain": [
              "0.5665608095472924"
            ]
          },
          "execution_count": 10,
          "metadata": {},
          "output_type": "execute_result"
        }
      ],
      "source": [
        "((df['Link Clicks']/df['Impressions'])*100).mean()"
      ]
    },
    {
      "cell_type": "code",
      "execution_count": null,
      "id": "8bc0dae4",
      "metadata": {
        "id": "8bc0dae4",
        "outputId": "510df839-faa4-4129-d56a-b81cd57aed57"
      },
      "outputs": [
        {
          "data": {
            "text/plain": [
              "1.2442086153846152"
            ]
          },
          "execution_count": 11,
          "metadata": {},
          "output_type": "execute_result"
        }
      ],
      "source": [
        "df['CTR (all)'].mean()"
      ]
    },
    {
      "cell_type": "markdown",
      "id": "b7d1765a",
      "metadata": {
        "id": "b7d1765a"
      },
      "source": [
        "### Cost Per Result"
      ]
    },
    {
      "cell_type": "markdown",
      "id": "6a5aa984",
      "metadata": {
        "id": "6a5aa984"
      },
      "source": [
        "$\\displaystyle \\frac{\\text{Total Amount Spent}}{\\text{Total Results}} \\$"
      ]
    },
    {
      "cell_type": "code",
      "execution_count": null,
      "id": "3c784ac9",
      "metadata": {
        "id": "3c784ac9",
        "outputId": "5218c20a-0f86-4c7e-d62f-ebe9d97bd51c"
      },
      "outputs": [
        {
          "data": {
            "text/html": [
              "<div>\n",
              "<style scoped>\n",
              "    .dataframe tbody tr th:only-of-type {\n",
              "        vertical-align: middle;\n",
              "    }\n",
              "\n",
              "    .dataframe tbody tr th {\n",
              "        vertical-align: top;\n",
              "    }\n",
              "\n",
              "    .dataframe thead th {\n",
              "        text-align: right;\n",
              "    }\n",
              "</style>\n",
              "<table border=\"1\" class=\"dataframe\">\n",
              "  <thead>\n",
              "    <tr style=\"text-align: right;\">\n",
              "      <th></th>\n",
              "      <th>Reporting Starts</th>\n",
              "      <th>Reporting Ends</th>\n",
              "      <th>Ad Set Name</th>\n",
              "      <th>Amount Spent</th>\n",
              "      <th>Results</th>\n",
              "      <th>Result indicator</th>\n",
              "      <th>CPR</th>\n",
              "      <th>Reach</th>\n",
              "      <th>Impressions</th>\n",
              "      <th>Frequency</th>\n",
              "      <th>CPM</th>\n",
              "      <th>CPC</th>\n",
              "      <th>CTR (all)</th>\n",
              "      <th>Link Clicks</th>\n",
              "      <th>Landing Page Views</th>\n",
              "    </tr>\n",
              "  </thead>\n",
              "  <tbody>\n",
              "    <tr>\n",
              "      <th>0</th>\n",
              "      <td>20/5/2022</td>\n",
              "      <td>31/5/2022</td>\n",
              "      <td>T1 - Cold - LLA - Promo May</td>\n",
              "      <td>332.65</td>\n",
              "      <td>2</td>\n",
              "      <td>actions:offsite_conversion.fb_pixel_purchase</td>\n",
              "      <td>166.325</td>\n",
              "      <td>6032</td>\n",
              "      <td>12594</td>\n",
              "      <td>2.087865</td>\n",
              "      <td>26.413371</td>\n",
              "      <td>2.294138</td>\n",
              "      <td>2.2074</td>\n",
              "      <td>145</td>\n",
              "      <td>89</td>\n",
              "    </tr>\n",
              "  </tbody>\n",
              "</table>\n",
              "</div>"
            ],
            "text/plain": [
              "  Reporting Starts Reporting Ends                  Ad Set Name  Amount Spent  \\\n",
              "0        20/5/2022      31/5/2022  T1 - Cold - LLA - Promo May        332.65   \n",
              "\n",
              "   Results                              Result indicator      CPR  Reach  \\\n",
              "0        2  actions:offsite_conversion.fb_pixel_purchase  166.325   6032   \n",
              "\n",
              "   Impressions  Frequency        CPM       CPC  CTR (all)  Link Clicks  \\\n",
              "0        12594   2.087865  26.413371  2.294138     2.2074          145   \n",
              "\n",
              "   Landing Page Views  \n",
              "0                  89  "
            ]
          },
          "execution_count": 12,
          "metadata": {},
          "output_type": "execute_result"
        }
      ],
      "source": [
        "df.head(1)"
      ]
    },
    {
      "cell_type": "code",
      "execution_count": null,
      "id": "d04cc48f",
      "metadata": {
        "id": "d04cc48f",
        "outputId": "26678e64-915a-464e-8823-1c2209b444f1"
      },
      "outputs": [
        {
          "data": {
            "text/plain": [
              "inf"
            ]
          },
          "execution_count": 13,
          "metadata": {},
          "output_type": "execute_result"
        }
      ],
      "source": [
        "(df['Amount Spent']/df['Results']).mean()"
      ]
    },
    {
      "cell_type": "code",
      "execution_count": null,
      "id": "865af0e9",
      "metadata": {
        "id": "865af0e9"
      },
      "outputs": [],
      "source": [
        "df_not_zero = df[df['Results']!=0]"
      ]
    },
    {
      "cell_type": "code",
      "execution_count": null,
      "id": "cf6025fc",
      "metadata": {
        "id": "cf6025fc",
        "outputId": "cbfba7d3-d6d4-48dd-d187-b41269c4da31"
      },
      "outputs": [
        {
          "data": {
            "text/plain": [
              "63.75379220779221"
            ]
          },
          "execution_count": 15,
          "metadata": {},
          "output_type": "execute_result"
        }
      ],
      "source": [
        "(df_not_zero['Amount Spent']/df_not_zero['Results']).mean()"
      ]
    },
    {
      "cell_type": "code",
      "execution_count": null,
      "id": "a8c5a4bc",
      "metadata": {
        "id": "a8c5a4bc",
        "outputId": "a598dbd0-6646-4ee8-f654-9be06400f4ac"
      },
      "outputs": [
        {
          "data": {
            "text/plain": [
              "63.75379220818183"
            ]
          },
          "execution_count": 16,
          "metadata": {},
          "output_type": "execute_result"
        }
      ],
      "source": [
        "df['CPR'].mean()"
      ]
    },
    {
      "cell_type": "markdown",
      "id": "3413b890",
      "metadata": {
        "id": "3413b890"
      },
      "source": [
        "## Step 3: Ad Set Overview"
      ]
    },
    {
      "cell_type": "code",
      "execution_count": null,
      "id": "21b159f4",
      "metadata": {
        "id": "21b159f4",
        "outputId": "21935c6d-6a5a-431b-a285-d87cd216052e"
      },
      "outputs": [
        {
          "data": {
            "text/plain": [
              "array(['T1 - Cold - LLA - Promo May', 'T1 - Cold - DT - Promo May',\n",
              "       'T2 - Cold - LLA - Promo May', 'T2 - Cold - DT - Promo May',\n",
              "       'T3 - Cold - LLA - Promo May', 'T3 - Cold - DT - Promo May',\n",
              "       'T4 - Cold - DT - Promo May', 'T4 - Cold - LLA - Promo May',\n",
              "       'Warm - CRSL', 'Warm - Videos', 'HOT - Last day',\n",
              "       'HOT - Last chance & crsl', 'HOT - Discount'], dtype=object)"
            ]
          },
          "execution_count": 17,
          "metadata": {},
          "output_type": "execute_result"
        }
      ],
      "source": [
        "df['Ad Set Name'].unique()"
      ]
    },
    {
      "cell_type": "markdown",
      "id": "5db18222",
      "metadata": {
        "id": "5db18222"
      },
      "source": [
        "### Hot, Warm, and Cold Ad Sets"
      ]
    },
    {
      "cell_type": "code",
      "execution_count": null,
      "id": "6fe38076",
      "metadata": {
        "id": "6fe38076",
        "outputId": "52ecebc2-e9e2-4d2c-de00-e842f64f6fdb"
      },
      "outputs": [
        {
          "data": {
            "text/html": [
              "<div>\n",
              "<style scoped>\n",
              "    .dataframe tbody tr th:only-of-type {\n",
              "        vertical-align: middle;\n",
              "    }\n",
              "\n",
              "    .dataframe tbody tr th {\n",
              "        vertical-align: top;\n",
              "    }\n",
              "\n",
              "    .dataframe thead th {\n",
              "        text-align: right;\n",
              "    }\n",
              "</style>\n",
              "<table border=\"1\" class=\"dataframe\">\n",
              "  <thead>\n",
              "    <tr style=\"text-align: right;\">\n",
              "      <th></th>\n",
              "      <th>Reporting Starts</th>\n",
              "      <th>Reporting Ends</th>\n",
              "      <th>Ad Set Name</th>\n",
              "      <th>Amount Spent</th>\n",
              "      <th>Results</th>\n",
              "      <th>Result indicator</th>\n",
              "      <th>CPR</th>\n",
              "      <th>Reach</th>\n",
              "      <th>Impressions</th>\n",
              "      <th>Frequency</th>\n",
              "      <th>CPM</th>\n",
              "      <th>CPC</th>\n",
              "      <th>CTR (all)</th>\n",
              "      <th>Link Clicks</th>\n",
              "      <th>Landing Page Views</th>\n",
              "      <th>Category</th>\n",
              "    </tr>\n",
              "  </thead>\n",
              "  <tbody>\n",
              "    <tr>\n",
              "      <th>0</th>\n",
              "      <td>20/5/2022</td>\n",
              "      <td>31/5/2022</td>\n",
              "      <td>T1 - Cold - LLA - Promo May</td>\n",
              "      <td>332.65</td>\n",
              "      <td>2</td>\n",
              "      <td>actions:offsite_conversion.fb_pixel_purchase</td>\n",
              "      <td>166.3250</td>\n",
              "      <td>6032</td>\n",
              "      <td>12594</td>\n",
              "      <td>2.087865</td>\n",
              "      <td>26.413371</td>\n",
              "      <td>2.294138</td>\n",
              "      <td>2.207400</td>\n",
              "      <td>145</td>\n",
              "      <td>89</td>\n",
              "      <td>Cold</td>\n",
              "    </tr>\n",
              "    <tr>\n",
              "      <th>1</th>\n",
              "      <td>20/5/2022</td>\n",
              "      <td>31/5/2022</td>\n",
              "      <td>T1 - Cold - DT - Promo May</td>\n",
              "      <td>915.00</td>\n",
              "      <td>15</td>\n",
              "      <td>actions:offsite_conversion.fb_pixel_purchase</td>\n",
              "      <td>61.0000</td>\n",
              "      <td>18900</td>\n",
              "      <td>42510</td>\n",
              "      <td>2.249206</td>\n",
              "      <td>21.524347</td>\n",
              "      <td>2.636888</td>\n",
              "      <td>1.587862</td>\n",
              "      <td>347</td>\n",
              "      <td>215</td>\n",
              "      <td>Cold</td>\n",
              "    </tr>\n",
              "    <tr>\n",
              "      <th>2</th>\n",
              "      <td>20/5/2022</td>\n",
              "      <td>31/5/2022</td>\n",
              "      <td>T2 - Cold - LLA - Promo May</td>\n",
              "      <td>327.77</td>\n",
              "      <td>4</td>\n",
              "      <td>actions:offsite_conversion.fb_pixel_purchase</td>\n",
              "      <td>81.9425</td>\n",
              "      <td>34743</td>\n",
              "      <td>61268</td>\n",
              "      <td>1.763463</td>\n",
              "      <td>5.349775</td>\n",
              "      <td>0.947312</td>\n",
              "      <td>1.237187</td>\n",
              "      <td>346</td>\n",
              "      <td>220</td>\n",
              "      <td>Cold</td>\n",
              "    </tr>\n",
              "    <tr>\n",
              "      <th>3</th>\n",
              "      <td>20/5/2022</td>\n",
              "      <td>31/5/2022</td>\n",
              "      <td>T2 - Cold - DT - Promo May</td>\n",
              "      <td>297.38</td>\n",
              "      <td>0</td>\n",
              "      <td>NaN</td>\n",
              "      <td>NaN</td>\n",
              "      <td>45001</td>\n",
              "      <td>65880</td>\n",
              "      <td>1.463967</td>\n",
              "      <td>4.513965</td>\n",
              "      <td>0.788806</td>\n",
              "      <td>1.220401</td>\n",
              "      <td>377</td>\n",
              "      <td>225</td>\n",
              "      <td>Cold</td>\n",
              "    </tr>\n",
              "    <tr>\n",
              "      <th>4</th>\n",
              "      <td>20/5/2022</td>\n",
              "      <td>31/5/2022</td>\n",
              "      <td>T3 - Cold - LLA - Promo May</td>\n",
              "      <td>291.45</td>\n",
              "      <td>4</td>\n",
              "      <td>actions:offsite_conversion.fb_pixel_purchase</td>\n",
              "      <td>72.8625</td>\n",
              "      <td>69040</td>\n",
              "      <td>147600</td>\n",
              "      <td>2.137891</td>\n",
              "      <td>1.974594</td>\n",
              "      <td>0.464092</td>\n",
              "      <td>1.115854</td>\n",
              "      <td>628</td>\n",
              "      <td>372</td>\n",
              "      <td>Cold</td>\n",
              "    </tr>\n",
              "  </tbody>\n",
              "</table>\n",
              "</div>"
            ],
            "text/plain": [
              "  Reporting Starts Reporting Ends                  Ad Set Name  Amount Spent  \\\n",
              "0        20/5/2022      31/5/2022  T1 - Cold - LLA - Promo May        332.65   \n",
              "1        20/5/2022      31/5/2022   T1 - Cold - DT - Promo May        915.00   \n",
              "2        20/5/2022      31/5/2022  T2 - Cold - LLA - Promo May        327.77   \n",
              "3        20/5/2022      31/5/2022   T2 - Cold - DT - Promo May        297.38   \n",
              "4        20/5/2022      31/5/2022  T3 - Cold - LLA - Promo May        291.45   \n",
              "\n",
              "   Results                              Result indicator       CPR  Reach  \\\n",
              "0        2  actions:offsite_conversion.fb_pixel_purchase  166.3250   6032   \n",
              "1       15  actions:offsite_conversion.fb_pixel_purchase   61.0000  18900   \n",
              "2        4  actions:offsite_conversion.fb_pixel_purchase   81.9425  34743   \n",
              "3        0                                           NaN       NaN  45001   \n",
              "4        4  actions:offsite_conversion.fb_pixel_purchase   72.8625  69040   \n",
              "\n",
              "   Impressions  Frequency        CPM       CPC  CTR (all)  Link Clicks  \\\n",
              "0        12594   2.087865  26.413371  2.294138   2.207400          145   \n",
              "1        42510   2.249206  21.524347  2.636888   1.587862          347   \n",
              "2        61268   1.763463   5.349775  0.947312   1.237187          346   \n",
              "3        65880   1.463967   4.513965  0.788806   1.220401          377   \n",
              "4       147600   2.137891   1.974594  0.464092   1.115854          628   \n",
              "\n",
              "   Landing Page Views Category  \n",
              "0                  89     Cold  \n",
              "1                 215     Cold  \n",
              "2                 220     Cold  \n",
              "3                 225     Cold  \n",
              "4                 372     Cold  "
            ]
          },
          "execution_count": 18,
          "metadata": {},
          "output_type": "execute_result"
        }
      ],
      "source": [
        "def categorize_ad_set(ad_set_name):\n",
        "    if 'Warm' in ad_set_name:\n",
        "        return 'Warm'\n",
        "    elif 'HOT' in ad_set_name:\n",
        "        return 'Hot'\n",
        "    else:\n",
        "        return 'Cold'\n",
        "\n",
        "df['Category'] = df['Ad Set Name'].apply(categorize_ad_set)\n",
        "df.head()"
      ]
    },
    {
      "cell_type": "code",
      "execution_count": null,
      "id": "bb20c314",
      "metadata": {
        "id": "bb20c314",
        "outputId": "5cfd71ac-a544-40fe-a05a-6b75616ca3aa"
      },
      "outputs": [
        {
          "data": {
            "text/html": [
              "<div>\n",
              "<style scoped>\n",
              "    .dataframe tbody tr th:only-of-type {\n",
              "        vertical-align: middle;\n",
              "    }\n",
              "\n",
              "    .dataframe tbody tr th {\n",
              "        vertical-align: top;\n",
              "    }\n",
              "\n",
              "    .dataframe thead th {\n",
              "        text-align: right;\n",
              "    }\n",
              "</style>\n",
              "<table border=\"1\" class=\"dataframe\">\n",
              "  <thead>\n",
              "    <tr style=\"text-align: right;\">\n",
              "      <th></th>\n",
              "      <th>Reach</th>\n",
              "      <th>Impressions</th>\n",
              "      <th>CTR (all)</th>\n",
              "      <th>Results</th>\n",
              "      <th>CPR</th>\n",
              "    </tr>\n",
              "    <tr>\n",
              "      <th>Category</th>\n",
              "      <th></th>\n",
              "      <th></th>\n",
              "      <th></th>\n",
              "      <th></th>\n",
              "      <th></th>\n",
              "    </tr>\n",
              "  </thead>\n",
              "  <tbody>\n",
              "    <tr>\n",
              "      <th>Cold</th>\n",
              "      <td>44435.375000</td>\n",
              "      <td>79417.500000</td>\n",
              "      <td>1.370799</td>\n",
              "      <td>4.000000</td>\n",
              "      <td>80.352667</td>\n",
              "    </tr>\n",
              "    <tr>\n",
              "      <th>Hot</th>\n",
              "      <td>11195.666667</td>\n",
              "      <td>58889.666667</td>\n",
              "      <td>1.034126</td>\n",
              "      <td>10.333333</td>\n",
              "      <td>38.851667</td>\n",
              "    </tr>\n",
              "    <tr>\n",
              "      <th>Warm</th>\n",
              "      <td>32232.000000</td>\n",
              "      <td>162021.500000</td>\n",
              "      <td>1.052970</td>\n",
              "      <td>10.000000</td>\n",
              "      <td>51.310357</td>\n",
              "    </tr>\n",
              "  </tbody>\n",
              "</table>\n",
              "</div>"
            ],
            "text/plain": [
              "                 Reach    Impressions  CTR (all)    Results        CPR\n",
              "Category                                                              \n",
              "Cold      44435.375000   79417.500000   1.370799   4.000000  80.352667\n",
              "Hot       11195.666667   58889.666667   1.034126  10.333333  38.851667\n",
              "Warm      32232.000000  162021.500000   1.052970  10.000000  51.310357"
            ]
          },
          "execution_count": 19,
          "metadata": {},
          "output_type": "execute_result"
        }
      ],
      "source": [
        "results = df.groupby('Category').agg({'Reach':'mean','Impressions':'mean',\n",
        "                                    'CTR (all)':'mean','Results':'mean',\n",
        "                                    'CPR':'mean'})\n",
        "\n",
        "results"
      ]
    },
    {
      "cell_type": "markdown",
      "id": "5dd4b7a8",
      "metadata": {
        "id": "5dd4b7a8"
      },
      "source": [
        "### Looalike vs Detailed Targeting"
      ]
    },
    {
      "cell_type": "code",
      "execution_count": null,
      "id": "ab51c671",
      "metadata": {
        "id": "ab51c671",
        "outputId": "fe15dbb4-e15f-415b-8af5-1585d1fed3b7"
      },
      "outputs": [
        {
          "data": {
            "text/plain": [
              "array(['T1 - Cold - LLA - Promo May', 'T1 - Cold - DT - Promo May',\n",
              "       'T2 - Cold - LLA - Promo May', 'T2 - Cold - DT - Promo May',\n",
              "       'T3 - Cold - LLA - Promo May', 'T3 - Cold - DT - Promo May',\n",
              "       'T4 - Cold - DT - Promo May', 'T4 - Cold - LLA - Promo May',\n",
              "       'Warm - CRSL', 'Warm - Videos', 'HOT - Last day',\n",
              "       'HOT - Last chance & crsl', 'HOT - Discount'], dtype=object)"
            ]
          },
          "execution_count": 20,
          "metadata": {},
          "output_type": "execute_result"
        }
      ],
      "source": [
        "df['Ad Set Name'].unique()"
      ]
    },
    {
      "cell_type": "code",
      "execution_count": null,
      "id": "d19f118c",
      "metadata": {
        "id": "d19f118c"
      },
      "outputs": [],
      "source": [
        "def categorize_ad_set_2(ad_set_name):\n",
        "    if('DT' in ad_set_name):\n",
        "        return 'Detailed Targeting'\n",
        "    elif('LLA' in ad_set_name):\n",
        "        return 'Lookalike Audience'\n",
        "    else:\n",
        "        return 'Other'\n",
        "\n",
        "df['Subcategory'] = df['Ad Set Name'].apply(categorize_ad_set_2)"
      ]
    },
    {
      "cell_type": "code",
      "execution_count": null,
      "id": "ffd71dfa",
      "metadata": {
        "id": "ffd71dfa"
      },
      "outputs": [],
      "source": [
        "df_cold = df[df['Category']=='Cold']"
      ]
    },
    {
      "cell_type": "code",
      "execution_count": null,
      "id": "62a798e0",
      "metadata": {
        "id": "62a798e0",
        "outputId": "5f49c7cc-bef7-4d2d-ca59-1c5c26803601"
      },
      "outputs": [
        {
          "data": {
            "text/html": [
              "<div>\n",
              "<style scoped>\n",
              "    .dataframe tbody tr th:only-of-type {\n",
              "        vertical-align: middle;\n",
              "    }\n",
              "\n",
              "    .dataframe tbody tr th {\n",
              "        vertical-align: top;\n",
              "    }\n",
              "\n",
              "    .dataframe thead th {\n",
              "        text-align: right;\n",
              "    }\n",
              "</style>\n",
              "<table border=\"1\" class=\"dataframe\">\n",
              "  <thead>\n",
              "    <tr style=\"text-align: right;\">\n",
              "      <th></th>\n",
              "      <th>Reach</th>\n",
              "      <th>Impressions</th>\n",
              "      <th>CTR (all)</th>\n",
              "      <th>Results</th>\n",
              "      <th>CPR</th>\n",
              "    </tr>\n",
              "    <tr>\n",
              "      <th>Subcategory</th>\n",
              "      <th></th>\n",
              "      <th></th>\n",
              "      <th></th>\n",
              "      <th></th>\n",
              "      <th></th>\n",
              "    </tr>\n",
              "  </thead>\n",
              "  <tbody>\n",
              "    <tr>\n",
              "      <th>Detailed Targeting</th>\n",
              "      <td>34033.25</td>\n",
              "      <td>53142.25</td>\n",
              "      <td>1.351996</td>\n",
              "      <td>4.25</td>\n",
              "      <td>53.2550</td>\n",
              "    </tr>\n",
              "    <tr>\n",
              "      <th>Lookalike Audience</th>\n",
              "      <td>54837.50</td>\n",
              "      <td>105692.75</td>\n",
              "      <td>1.389602</td>\n",
              "      <td>3.75</td>\n",
              "      <td>93.9015</td>\n",
              "    </tr>\n",
              "  </tbody>\n",
              "</table>\n",
              "</div>"
            ],
            "text/plain": [
              "                       Reach  Impressions  CTR (all)  Results      CPR\n",
              "Subcategory                                                           \n",
              "Detailed Targeting  34033.25     53142.25   1.351996     4.25  53.2550\n",
              "Lookalike Audience  54837.50    105692.75   1.389602     3.75  93.9015"
            ]
          },
          "execution_count": 23,
          "metadata": {},
          "output_type": "execute_result"
        }
      ],
      "source": [
        "df_cold = df_cold.groupby('Subcategory').agg({'Reach':'mean','Impressions':'mean',\n",
        "                                    'CTR (all)':'mean','Results':'mean',\n",
        "                                    'CPR':'mean'})\n",
        "\n",
        "df_cold"
      ]
    },
    {
      "cell_type": "code",
      "execution_count": null,
      "id": "da246bd6",
      "metadata": {
        "id": "da246bd6"
      },
      "outputs": [],
      "source": [
        "import matplotlib.pyplot as plt\n",
        "import seaborn as sns"
      ]
    },
    {
      "cell_type": "code",
      "execution_count": null,
      "id": "bf29f2ea",
      "metadata": {
        "id": "bf29f2ea",
        "outputId": "6588fa77-65d8-45e2-b4ae-b1bc8ebf7ae0"
      },
      "outputs": [
        {
          "data": {
            "text/html": [
              "<div>\n",
              "<style scoped>\n",
              "    .dataframe tbody tr th:only-of-type {\n",
              "        vertical-align: middle;\n",
              "    }\n",
              "\n",
              "    .dataframe tbody tr th {\n",
              "        vertical-align: top;\n",
              "    }\n",
              "\n",
              "    .dataframe thead th {\n",
              "        text-align: right;\n",
              "    }\n",
              "</style>\n",
              "<table border=\"1\" class=\"dataframe\">\n",
              "  <thead>\n",
              "    <tr style=\"text-align: right;\">\n",
              "      <th></th>\n",
              "      <th>Subcategory</th>\n",
              "      <th>variable</th>\n",
              "      <th>value</th>\n",
              "    </tr>\n",
              "  </thead>\n",
              "  <tbody>\n",
              "    <tr>\n",
              "      <th>0</th>\n",
              "      <td>Detailed Targeting</td>\n",
              "      <td>Reach</td>\n",
              "      <td>34033.250000</td>\n",
              "    </tr>\n",
              "    <tr>\n",
              "      <th>1</th>\n",
              "      <td>Lookalike Audience</td>\n",
              "      <td>Reach</td>\n",
              "      <td>54837.500000</td>\n",
              "    </tr>\n",
              "    <tr>\n",
              "      <th>2</th>\n",
              "      <td>Detailed Targeting</td>\n",
              "      <td>Impressions</td>\n",
              "      <td>53142.250000</td>\n",
              "    </tr>\n",
              "    <tr>\n",
              "      <th>3</th>\n",
              "      <td>Lookalike Audience</td>\n",
              "      <td>Impressions</td>\n",
              "      <td>105692.750000</td>\n",
              "    </tr>\n",
              "    <tr>\n",
              "      <th>4</th>\n",
              "      <td>Detailed Targeting</td>\n",
              "      <td>CTR (all)</td>\n",
              "      <td>1.351996</td>\n",
              "    </tr>\n",
              "    <tr>\n",
              "      <th>5</th>\n",
              "      <td>Lookalike Audience</td>\n",
              "      <td>CTR (all)</td>\n",
              "      <td>1.389602</td>\n",
              "    </tr>\n",
              "    <tr>\n",
              "      <th>6</th>\n",
              "      <td>Detailed Targeting</td>\n",
              "      <td>Results</td>\n",
              "      <td>4.250000</td>\n",
              "    </tr>\n",
              "    <tr>\n",
              "      <th>7</th>\n",
              "      <td>Lookalike Audience</td>\n",
              "      <td>Results</td>\n",
              "      <td>3.750000</td>\n",
              "    </tr>\n",
              "    <tr>\n",
              "      <th>8</th>\n",
              "      <td>Detailed Targeting</td>\n",
              "      <td>CPR</td>\n",
              "      <td>53.255000</td>\n",
              "    </tr>\n",
              "    <tr>\n",
              "      <th>9</th>\n",
              "      <td>Lookalike Audience</td>\n",
              "      <td>CPR</td>\n",
              "      <td>93.901500</td>\n",
              "    </tr>\n",
              "  </tbody>\n",
              "</table>\n",
              "</div>"
            ],
            "text/plain": [
              "          Subcategory     variable          value\n",
              "0  Detailed Targeting        Reach   34033.250000\n",
              "1  Lookalike Audience        Reach   54837.500000\n",
              "2  Detailed Targeting  Impressions   53142.250000\n",
              "3  Lookalike Audience  Impressions  105692.750000\n",
              "4  Detailed Targeting    CTR (all)       1.351996\n",
              "5  Lookalike Audience    CTR (all)       1.389602\n",
              "6  Detailed Targeting      Results       4.250000\n",
              "7  Lookalike Audience      Results       3.750000\n",
              "8  Detailed Targeting          CPR      53.255000\n",
              "9  Lookalike Audience          CPR      93.901500"
            ]
          },
          "execution_count": 25,
          "metadata": {},
          "output_type": "execute_result"
        }
      ],
      "source": [
        "df_transformed = df_cold.reset_index().melt('Subcategory')\n",
        "df_transformed"
      ]
    },
    {
      "cell_type": "code",
      "execution_count": null,
      "id": "2b5ffdf8",
      "metadata": {
        "id": "2b5ffdf8",
        "outputId": "a020ca24-706f-4d3b-e20f-dba87442e0b4"
      },
      "outputs": [
        {
          "data": {
            "image/png": "[encoded data removed]",
            "text/plain": [
              "<Figure size 1296x576 with 5 Axes>"
            ]
          },
          "metadata": {
            "needs_background": "light"
          },
          "output_type": "display_data"
        }
      ],
      "source": [
        "viz = sns.FacetGrid(df_transformed, col='variable', col_wrap=3, sharex=False,\n",
        "                   sharey=False, height=4, aspect=1.5)\n",
        "\n",
        "viz.map(sns.barplot, 'Subcategory', 'value', order=df_cold.reset_index()['Subcategory'])\n",
        "\n",
        "plt.show()"
      ]
    },
    {
      "cell_type": "markdown",
      "id": "4a429a64",
      "metadata": {
        "id": "4a429a64"
      },
      "source": [
        "## Step 4: Detailed Ad Set Analysis"
      ]
    },
    {
      "cell_type": "markdown",
      "id": "06ee0a1f",
      "metadata": {
        "id": "06ee0a1f"
      },
      "source": [
        "### Hot"
      ]
    },
    {
      "cell_type": "code",
      "execution_count": null,
      "id": "cc982fa3",
      "metadata": {
        "id": "cc982fa3"
      },
      "outputs": [],
      "source": [
        "df_hot = df[df['Category']=='Hot']\n",
        "df_hot = df_hot.reset_index()"
      ]
    },
    {
      "cell_type": "markdown",
      "id": "1c936c62",
      "metadata": {
        "id": "1c936c62"
      },
      "source": [
        "### Top-Funnel Metrics"
      ]
    },
    {
      "cell_type": "code",
      "execution_count": null,
      "id": "55c1bbf8",
      "metadata": {
        "id": "55c1bbf8",
        "outputId": "7024efcf-19b3-4acf-ffed-9cad64f0b54a"
      },
      "outputs": [
        {
          "data": {
            "image/png": "[encoded data removed]",
            "text/plain": [
              "<Figure size 1368x360 with 3 Axes>"
            ]
          },
          "metadata": {
            "needs_background": "light"
          },
          "output_type": "display_data"
        }
      ],
      "source": [
        "def top_funnel_metrics(df):\n",
        "    fig, axs = plt.subplots(1, 3, figsize=(19,5))\n",
        "\n",
        "    sns.barplot(x='Ad Set Name', y='Reach', data=df, ax=axs[0])\n",
        "    axs[0].set_title('Reach')\n",
        "\n",
        "    sns.barplot(x='Ad Set Name', y='Impressions', data=df, ax=axs[1])\n",
        "    axs[1].set_title('Impressions')\n",
        "\n",
        "    sns.barplot(x='Ad Set Name', y='CPM', data=df, ax=axs[2])\n",
        "    axs[2].set_title('CPM')\n",
        "\n",
        "    for ax in axs:\n",
        "        for label in ax.get_xticklabels():\n",
        "            label.set_rotation(90)\n",
        "\n",
        "    plt.show()\n",
        "\n",
        "top_funnel_metrics(df_hot)"
      ]
    },
    {
      "cell_type": "markdown",
      "id": "cb148f44",
      "metadata": {
        "id": "cb148f44"
      },
      "source": [
        "### Mid-Funnel Metrics"
      ]
    },
    {
      "cell_type": "code",
      "execution_count": null,
      "id": "0235981a",
      "metadata": {
        "id": "0235981a",
        "outputId": "d804b6ef-bba5-48e0-ce8e-3d38e7501c0b"
      },
      "outputs": [
        {
          "data": {
            "image/png": "[encoded data removed]",
            "text/plain": [
              "<Figure size 1368x360 with 3 Axes>"
            ]
          },
          "metadata": {
            "needs_background": "light"
          },
          "output_type": "display_data"
        }
      ],
      "source": [
        "def mid_funnel_metrics(df):\n",
        "    fig, axs = plt.subplots(1, 3, figsize=(19,5))\n",
        "\n",
        "    sns.barplot(x='Ad Set Name', y='CTR (all)', data=df, ax=axs[0])\n",
        "    axs[0].set_title('CTR (all)')\n",
        "\n",
        "    sns.barplot(x='Ad Set Name', y='Landing Page Views', data=df, ax=axs[1])\n",
        "    axs[1].set_title('Landing Page Views')\n",
        "\n",
        "    sns.barplot(x='Ad Set Name', y='CPC', data=df, ax=axs[2])\n",
        "    axs[2].set_title('CPC')\n",
        "\n",
        "    for ax in axs:\n",
        "        for label in ax.get_xticklabels():\n",
        "            label.set_rotation(90)\n",
        "\n",
        "    plt.show()\n",
        "\n",
        "mid_funnel_metrics(df_hot)"
      ]
    },
    {
      "cell_type": "markdown",
      "id": "4f4b668f",
      "metadata": {
        "id": "4f4b668f"
      },
      "source": [
        "### Bottom-Funnel Metrics"
      ]
    },
    {
      "cell_type": "code",
      "execution_count": null,
      "id": "47a684c7",
      "metadata": {
        "id": "47a684c7",
        "outputId": "dc70acb0-a597-436f-e114-9d8cea0b9ffa"
      },
      "outputs": [
        {
          "data": {
            "image/png": "[encoded data removed]",
            "text/plain": [
              "<Figure size 1368x360 with 2 Axes>"
            ]
          },
          "metadata": {
            "needs_background": "light"
          },
          "output_type": "display_data"
        }
      ],
      "source": [
        "def bottom_funnel_metrics(df):\n",
        "    fig, axs = plt.subplots(1, 2, figsize=(19,5))\n",
        "\n",
        "    sns.barplot(x='Ad Set Name', y='Results', data=df, ax=axs[0])\n",
        "    axs[0].set_title('Results')\n",
        "\n",
        "    sns.barplot(x='Ad Set Name', y='CPR', data=df, ax=axs[1])\n",
        "    axs[1].set_title('CPR')\n",
        "\n",
        "    for ax in axs:\n",
        "        for label in ax.get_xticklabels():\n",
        "            label.set_rotation(90)\n",
        "\n",
        "    plt.show()\n",
        "\n",
        "bottom_funnel_metrics(df_hot)"
      ]
    },
    {
      "cell_type": "code",
      "execution_count": null,
      "id": "4c1b6f8d",
      "metadata": {
        "id": "4c1b6f8d",
        "outputId": "25db29eb-5eef-4265-8842-b928d4a06b08"
      },
      "outputs": [
        {
          "data": {
            "text/plain": [
              "<AxesSubplot:xlabel='Ad Set Name', ylabel='Amount Spent'>"
            ]
          },
          "execution_count": 31,
          "metadata": {},
          "output_type": "execute_result"
        },
        {
          "data": {
            "image/png": "[encoded data removed]",
            "text/plain": [
              "<Figure size 432x288 with 1 Axes>"
            ]
          },
          "metadata": {
            "needs_background": "light"
          },
          "output_type": "display_data"
        }
      ],
      "source": [
        "sns.barplot(x='Ad Set Name', y='Amount Spent', data=df_hot)"
      ]
    },
    {
      "cell_type": "markdown",
      "id": "c2c8ad49",
      "metadata": {
        "id": "c2c8ad49"
      },
      "source": [
        "### Warm"
      ]
    },
    {
      "cell_type": "code",
      "execution_count": null,
      "id": "cb9747db",
      "metadata": {
        "id": "cb9747db"
      },
      "outputs": [],
      "source": [
        "df_warm = df[df['Category']=='Warm']\n",
        "df_warm = df_warm.reset_index()"
      ]
    },
    {
      "cell_type": "code",
      "execution_count": null,
      "id": "fe7af26a",
      "metadata": {
        "id": "fe7af26a",
        "outputId": "6ef16625-ca2c-472a-e5e6-3410583d9566"
      },
      "outputs": [
        {
          "data": {
            "image/png": "[encoded data removed]",
            "text/plain": [
              "<Figure size 1368x360 with 3 Axes>"
            ]
          },
          "metadata": {
            "needs_background": "light"
          },
          "output_type": "display_data"
        }
      ],
      "source": [
        "top_funnel_metrics(df_warm)"
      ]
    },
    {
      "cell_type": "code",
      "execution_count": null,
      "id": "8f834280",
      "metadata": {
        "id": "8f834280",
        "outputId": "99bebb3f-7686-42ff-ad91-70dd963d3422"
      },
      "outputs": [
        {
          "data": {
            "image/png": "[encoded data removed]",
            "text/plain": [
              "<Figure size 1368x360 with 3 Axes>"
            ]
          },
          "metadata": {
            "needs_background": "light"
          },
          "output_type": "display_data"
        }
      ],
      "source": [
        "mid_funnel_metrics(df_warm)"
      ]
    },
    {
      "cell_type": "code",
      "execution_count": null,
      "id": "3a8f4991",
      "metadata": {
        "id": "3a8f4991",
        "outputId": "11641995-14d6-4e4e-c075-12e56d2b56e2"
      },
      "outputs": [
        {
          "data": {
            "text/plain": [
              "<AxesSubplot:xlabel='Ad Set Name', ylabel='Link Clicks'>"
            ]
          },
          "execution_count": 35,
          "metadata": {},
          "output_type": "execute_result"
        },
        {
          "data": {
            "image/png": "[encoded data removed]",
            "text/plain": [
              "<Figure size 432x288 with 1 Axes>"
            ]
          },
          "metadata": {
            "needs_background": "light"
          },
          "output_type": "display_data"
        }
      ],
      "source": [
        "sns.barplot(x='Ad Set Name', y='Link Clicks', data=df_warm)"
      ]
    },
    {
      "cell_type": "code",
      "execution_count": null,
      "id": "7ed1f8cb",
      "metadata": {
        "id": "7ed1f8cb",
        "outputId": "ac812e87-799c-4806-b349-16c250003da2"
      },
      "outputs": [
        {
          "data": {
            "image/png": "[encoded data removed]",
            "text/plain": [
              "<Figure size 1368x360 with 2 Axes>"
            ]
          },
          "metadata": {
            "needs_background": "light"
          },
          "output_type": "display_data"
        }
      ],
      "source": [
        "bottom_funnel_metrics(df_warm)"
      ]
    },
    {
      "cell_type": "markdown",
      "id": "9e1de4bc",
      "metadata": {
        "id": "9e1de4bc"
      },
      "source": [
        "### Cold"
      ]
    },
    {
      "cell_type": "code",
      "execution_count": null,
      "id": "e13512d9",
      "metadata": {
        "id": "e13512d9"
      },
      "outputs": [],
      "source": [
        "df_cold = df[df['Category']=='Cold']\n",
        "df_cold = df_cold.reset_index()"
      ]
    },
    {
      "cell_type": "code",
      "execution_count": null,
      "id": "ab42a139",
      "metadata": {
        "id": "ab42a139"
      },
      "outputs": [],
      "source": [
        "def all_cold_adsets(df, metrics, ad_set_types=['Lookalike Audience','Detailed Targeting']):\n",
        "\n",
        "    fig, axes = plt.subplots(nrows=len(metrics), ncols=len(ad_set_types), figsize=(12,11), sharey='row')\n",
        "\n",
        "    for i, metric in enumerate(metrics):\n",
        "        for j, ad_set_type in enumerate(ad_set_types):\n",
        "            filtered_df = df[df['Subcategory']==ad_set_type]\n",
        "            ax = axes[i,j]\n",
        "            sns.barplot(x='Ad Set Name', y=metric, data=filtered_df, ax=ax)\n",
        "            ax.set_title(f'{metric}-{ad_set_type}')\n",
        "            ax.set_xticklabels(ax.get_xticklabels(), rotation=90)\n",
        "\n",
        "    plt.tight_layout()\n",
        "    plt.show()"
      ]
    },
    {
      "cell_type": "code",
      "execution_count": null,
      "id": "c5f4fda1",
      "metadata": {
        "id": "c5f4fda1",
        "outputId": "097e6c36-ae05-4a6d-9ade-d40e186a2213"
      },
      "outputs": [
        {
          "data": {
            "image/png": "[encoded data removed]",
            "text/plain": [
              "<Figure size 864x792 with 6 Axes>"
            ]
          },
          "metadata": {
            "needs_background": "light"
          },
          "output_type": "display_data"
        }
      ],
      "source": [
        "top_funnel_metrics = ['Reach', 'Impressions', 'CPM']\n",
        "all_cold_adsets(df_cold, top_funnel_metrics)"
      ]
    },
    {
      "cell_type": "markdown",
      "id": "fb01d3cc",
      "metadata": {
        "id": "fb01d3cc"
      },
      "source": [
        "### Mid-Funnel Metrics"
      ]
    },
    {
      "cell_type": "code",
      "execution_count": null,
      "id": "ef93a375",
      "metadata": {
        "id": "ef93a375",
        "outputId": "42774083-cace-496f-d3e6-0f2b4c9a4ae8"
      },
      "outputs": [
        {
          "data": {
            "image/png": "[encoded data removed]",
            "text/plain": [
              "<Figure size 864x792 with 6 Axes>"
            ]
          },
          "metadata": {
            "needs_background": "light"
          },
          "output_type": "display_data"
        }
      ],
      "source": [
        "mid_funnel_metrics = ['CTR (all)','CPC','Landing Page Views']\n",
        "all_cold_adsets(df_cold, mid_funnel_metrics)"
      ]
    },
    {
      "cell_type": "markdown",
      "id": "b32aa224",
      "metadata": {
        "id": "b32aa224"
      },
      "source": [
        "### Bottom-Funnel Metrics"
      ]
    },
    {
      "cell_type": "code",
      "execution_count": null,
      "id": "ded9a99d",
      "metadata": {
        "id": "ded9a99d",
        "outputId": "e1b6eff5-8bc1-4b91-b616-d2d372249a64"
      },
      "outputs": [
        {
          "data": {
            "image/png": "[encoded data removed]",
            "text/plain": [
              "<Figure size 864x792 with 6 Axes>"
            ]
          },
          "metadata": {
            "needs_background": "light"
          },
          "output_type": "display_data"
        }
      ],
      "source": [
        "bottom_funnel_metrics = ['Results','CPR','Amount Spent']\n",
        "all_cold_adsets(df_cold, bottom_funnel_metrics)"
      ]
    },
    {
      "cell_type": "code",
      "execution_count": null,
      "id": "f70c75b5",
      "metadata": {
        "id": "f70c75b5"
      },
      "outputs": [],
      "source": []
    }
  ],
  "metadata": {
    "kernelspec": {
      "display_name": "Python 3 (ipykernel)",
      "language": "python",
      "name": "python3"
    },
    "language_info": {
      "codemirror_mode": {
        "name": "ipython",
        "version": 3
      },
      "file_extension": ".py",
      "mimetype": "text/x-python",
      "name": "python",
      "nbconvert_exporter": "python",
      "pygments_lexer": "ipython3",
      "version": "3.9.12"
    },
    "colab": {
      "provenance": []
    }
  },
  "nbformat": 4,
  "nbformat_minor": 5
}