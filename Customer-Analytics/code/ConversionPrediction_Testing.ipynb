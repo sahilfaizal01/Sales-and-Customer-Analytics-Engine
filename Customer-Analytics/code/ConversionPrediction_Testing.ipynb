{
  "cells": [
    {
      "cell_type": "markdown",
      "metadata": {
        "id": "HToHZ0DgVSY2"
      },
      "source": [
        "# Predicting on new data"
      ]
    },
    {
      "cell_type": "markdown",
      "metadata": {
        "id": "VFXxJyobVSY3"
      },
      "source": [
        "## Import the relevant libraries"
      ]
    },
    {
      "cell_type": "code",
      "execution_count": null,
      "metadata": {
        "id": "x9I5Q-HaVSY4"
      },
      "outputs": [],
      "source": [
        "import numpy as np\n",
        "import tensorflow as tf\n",
        "import pickle"
      ]
    },
    {
      "cell_type": "markdown",
      "metadata": {
        "id": "UqCsOXi9VSY4"
      },
      "source": [
        "## Load the scaler and the model"
      ]
    },
    {
      "cell_type": "code",
      "execution_count": null,
      "metadata": {
        "id": "6LyG_SieVSY4"
      },
      "outputs": [],
      "source": [
        "scaler_deep_learning = pickle.load(open('scaler_deep_learning.pickle', 'rb'))\n",
        "model = tf.keras.models.load_model('audiobooks_model.h5')"
      ]
    },
    {
      "cell_type": "markdown",
      "metadata": {
        "id": "l7CYPrC8VSY4"
      },
      "source": [
        "## Load the new data"
      ]
    },
    {
      "cell_type": "code",
      "execution_count": null,
      "metadata": {
        "id": "dB950X-bVSY5"
      },
      "outputs": [],
      "source": [
        "raw_data = np.loadtxt('New_Audiobooks_Data.csv', delimiter = ',')\n",
        "new_data_inputs = raw_data[:,1:]"
      ]
    },
    {
      "cell_type": "markdown",
      "metadata": {
        "id": "2AYRJjK4VSY5"
      },
      "source": [
        "## Predict the probability of a customer to convert"
      ]
    },
    {
      "cell_type": "code",
      "execution_count": null,
      "metadata": {
        "id": "JoUMKdSiVSY5"
      },
      "outputs": [],
      "source": [
        "new_data_inputs_scaled = scaler_deep_learning.transform(new_data_inputs)"
      ]
    },
    {
      "cell_type": "code",
      "execution_count": null,
      "metadata": {
        "id": "WkUzmvKpVSY5"
      },
      "outputs": [],
      "source": [
        "model.predict(new_data_inputs_scaled)[:,1].round(2)"
      ]
    },
    {
      "cell_type": "code",
      "execution_count": null,
      "metadata": {
        "id": "JSpjIGNcVSY5"
      },
      "outputs": [],
      "source": [
        "np.argmax(model.predict(new_data_inputs_scaled),1)"
      ]
    }
  ],
  "metadata": {
    "kernelspec": {
      "display_name": "Python [conda env:py3-TF2.0]",
      "language": "python",
      "name": "conda-env-py3-TF2.0-py"
    },
    "language_info": {
      "codemirror_mode": {
        "name": "ipython",
        "version": 3
      },
      "file_extension": ".py",
      "mimetype": "text/x-python",
      "name": "python",
      "nbconvert_exporter": "python",
      "pygments_lexer": "ipython3",
      "version": "3.7.5"
    },
    "colab": {
      "provenance": []
    }
  },
  "nbformat": 4,
  "nbformat_minor": 0
}